{
 "cells": [
  {
   "cell_type": "markdown",
   "id": "42a023cb",
   "metadata": {},
   "source": [
    "### 문자열 삽입"
   ]
  },
  {
   "cell_type": "code",
   "execution_count": 1,
   "id": "a5e8924c",
   "metadata": {},
   "outputs": [
    {
     "name": "stdout",
     "output_type": "stream",
     "text": [
      "a.p.p.l.e\n"
     ]
    }
   ],
   "source": [
    "a = \"apple\"\n",
    "b = \".\".join(a)\n",
    "print(b)"
   ]
  },
  {
   "cell_type": "markdown",
   "id": "df14b4b9",
   "metadata": {},
   "source": [
    "### 딕셔너리 키-값 추가와 삭제"
   ]
  },
  {
   "cell_type": "code",
   "execution_count": 3,
   "id": "6d6ae651",
   "metadata": {},
   "outputs": [
    {
     "name": "stdout",
     "output_type": "stream",
     "text": [
      "{'name': 'John', 'age': 30, 'house': 'appartment', 'birth': [11, 8]}\n",
      "{'name': 'John', 'age': 30, 'birth': [11, 8]}\n"
     ]
    }
   ],
   "source": [
    "a = {'name':'John'}\n",
    "a['age'] = 30\n",
    "a['house'] = 'appartment'\n",
    "a['birth'] = [11, 8]\n",
    "\n",
    "print(a)\n",
    "\n",
    "del a['house']\n",
    "\n",
    "print(a)"
   ]
  },
  {
   "cell_type": "markdown",
   "id": "b8145ce7",
   "metadata": {},
   "source": [
    "### 딕셔너리 키 리스트 만들기"
   ]
  },
  {
   "cell_type": "code",
   "execution_count": 5,
   "id": "8ba169fc",
   "metadata": {},
   "outputs": [
    {
     "name": "stdout",
     "output_type": "stream",
     "text": [
      "b: dict_keys(['name', 'age', 'birth'])\n",
      "c: ['name', 'age', 'birth']\n"
     ]
    }
   ],
   "source": [
    "a = {'name':'John', 'age':30, 'birth':[11,8]}\n",
    "\n",
    "b=a.keys()\n",
    "print('b:', b)\n",
    "c=list(a.keys())\n",
    "print('c:', c)"
   ]
  },
  {
   "cell_type": "markdown",
   "id": "f9df6d29",
   "metadata": {},
   "source": [
    "### 딕셔너리 값 리스트 만들기"
   ]
  },
  {
   "cell_type": "code",
   "execution_count": 6,
   "id": "92fcdc26",
   "metadata": {},
   "outputs": [
    {
     "name": "stdout",
     "output_type": "stream",
     "text": [
      "b: dict_values(['John', 30, [11, 8]])\n",
      "c: ['John', 30, [11, 8]]\n"
     ]
    }
   ],
   "source": [
    "a = {'name':'John', 'age':30, 'birth':[11,8]}\n",
    "\n",
    "b = a.values()\n",
    "print('b:', b)\n",
    "c=list(a.values())\n",
    "print('c:', c)"
   ]
  },
  {
   "cell_type": "markdown",
   "id": "755fc931",
   "metadata": {},
   "source": [
    "### 딕셔너리 키-값 리스트 만들기"
   ]
  },
  {
   "cell_type": "code",
   "execution_count": 7,
   "id": "9bb68b96",
   "metadata": {},
   "outputs": [
    {
     "name": "stdout",
     "output_type": "stream",
     "text": [
      "b: dict_items([('name', 'John'), ('age', 30), ('birth', [11, 8])])\n",
      "c: [('name', 'John'), ('age', 30), ('birth', [11, 8])]\n"
     ]
    }
   ],
   "source": [
    "a = {'name':'John', 'age':30, 'birth':[11,8]}\n",
    "\n",
    "b = a.items()\n",
    "print('b:', b)\n",
    "c=list(a.items())\n",
    "print('c:', c)"
   ]
  },
  {
   "cell_type": "markdown",
   "id": "19780940",
   "metadata": {},
   "source": [
    "### 딕셔너리 키로 값 호출하기"
   ]
  },
  {
   "cell_type": "code",
   "execution_count": 9,
   "id": "7f52442e",
   "metadata": {},
   "outputs": [
    {
     "name": "stdout",
     "output_type": "stream",
     "text": [
      "None\n",
      "No Data\n"
     ]
    }
   ],
   "source": [
    "a = {'name':'John', 'age':30, 'birth':[11,8]}\n",
    "\n",
    "d = a.get('house')\n",
    "print(d)\n",
    "\n",
    "e = a.get('house', 'No Data')\n",
    "print(e)"
   ]
  },
  {
   "cell_type": "markdown",
   "id": "9e739c7c",
   "metadata": {},
   "source": [
    "### 집합 자료형 교집합"
   ]
  },
  {
   "cell_type": "code",
   "execution_count": 11,
   "id": "c0df0665",
   "metadata": {},
   "outputs": [
    {
     "name": "stdout",
     "output_type": "stream",
     "text": [
      "{3, 4, 5}\n",
      "{3, 4, 5}\n"
     ]
    }
   ],
   "source": [
    "a = set([1, 2, 3, 4, 5])\n",
    "b = set([3, 4, 5, 6, 7])\n",
    "\n",
    "c = a & b\n",
    "print(c)\n",
    "d = a.intersection(b)\n",
    "print(d)"
   ]
  },
  {
   "cell_type": "markdown",
   "id": "8b5626e0",
   "metadata": {},
   "source": [
    "### 집합 자료형 합집합"
   ]
  },
  {
   "cell_type": "code",
   "execution_count": 12,
   "id": "44876ec6",
   "metadata": {},
   "outputs": [
    {
     "name": "stdout",
     "output_type": "stream",
     "text": [
      "{1, 2, 3, 4, 5, 6, 7}\n",
      "{1, 2, 3, 4, 5, 6, 7}\n"
     ]
    }
   ],
   "source": [
    "a = set([1, 2, 3, 4, 5])\n",
    "b = set([3, 4, 5, 6, 7])\n",
    "\n",
    "c = a|b\n",
    "print(c)\n",
    "d = a.union(b)\n",
    "print(d)"
   ]
  },
  {
   "cell_type": "markdown",
   "id": "2b864024",
   "metadata": {},
   "source": [
    "### 집합 자료형 차집합"
   ]
  },
  {
   "cell_type": "code",
   "execution_count": 13,
   "id": "ce7bc688",
   "metadata": {},
   "outputs": [
    {
     "name": "stdout",
     "output_type": "stream",
     "text": [
      "{1, 2}\n",
      "{1, 2}\n"
     ]
    }
   ],
   "source": [
    "a = set([1, 2, 3, 4, 5])\n",
    "b = set([3, 4, 5, 6, 7])\n",
    "\n",
    "c = a - b\n",
    "print(c)\n",
    "d = a.difference(b)\n",
    "print(d)"
   ]
  },
  {
   "cell_type": "markdown",
   "id": "63173388",
   "metadata": {},
   "source": [
    "### while문 기본 구조"
   ]
  },
  {
   "cell_type": "code",
   "execution_count": 14,
   "id": "05cea2d6",
   "metadata": {},
   "outputs": [
    {
     "name": "stdout",
     "output_type": "stream",
     "text": [
      "a is 0\n",
      "a is 1\n",
      "a is 2\n",
      "a is 3\n",
      "a is 4\n",
      "while문 종료\n"
     ]
    }
   ],
   "source": [
    "a = 0\n",
    "\n",
    "while a<5:\n",
    "    print('a is %s' % a)\n",
    "    a += 1\n",
    "\n",
    "print(\"while문 종료\")"
   ]
  },
  {
   "cell_type": "markdown",
   "id": "a3d854c2",
   "metadata": {},
   "source": [
    "### while문 조건 변경"
   ]
  },
  {
   "cell_type": "code",
   "execution_count": 15,
   "id": "5f9c4e73",
   "metadata": {},
   "outputs": [
    {
     "name": "stdout",
     "output_type": "stream",
     "text": [
      "바구니에서 사과를 꺼냄\n",
      "바구니에서 바나나를 꺼냄\n",
      "바구니에서 토마토를 꺼냄\n",
      "바구니에 아무것도 남지 않음\n"
     ]
    }
   ],
   "source": [
    "a = 0\n",
    "b = ['사과', '바나나', '토마토']\n",
    "\n",
    "while a<len(b):\n",
    "    print('바구니에서 %s를 꺼냄' % b[a])\n",
    "    a = a+1\n",
    "    \n",
    "print('바구니에 아무것도 남지 않음')"
   ]
  },
  {
   "cell_type": "markdown",
   "id": "03b7af24",
   "metadata": {},
   "source": [
    "### while문 continue 활용"
   ]
  },
  {
   "cell_type": "code",
   "execution_count": 16,
   "id": "d1aac250",
   "metadata": {},
   "outputs": [
    {
     "name": "stdout",
     "output_type": "stream",
     "text": [
      "1\n",
      "3\n",
      "5\n",
      "7\n",
      "9\n"
     ]
    }
   ],
   "source": [
    "a=0\n",
    "\n",
    "while a<10:\n",
    "    a = a+1\n",
    "    if a%2 == 0:\n",
    "        continue\n",
    "    print(a)"
   ]
  },
  {
   "cell_type": "markdown",
   "id": "d821199c",
   "metadata": {},
   "source": [
    "### for문과 if문 활용"
   ]
  },
  {
   "cell_type": "code",
   "execution_count": 17,
   "id": "2b53de1e",
   "metadata": {},
   "outputs": [
    {
     "name": "stdout",
     "output_type": "stream",
     "text": [
      "평균은 61.4\n",
      "90 는(은) 평균보다 크다\n",
      "25 는(은) 평균보다 작거나 같다\n",
      "67 는(은) 평균보다 크다\n",
      "45 는(은) 평균보다 작거나 같다\n",
      "80 는(은) 평균보다 크다\n"
     ]
    }
   ],
   "source": [
    "a = [90, 25, 67, 45, 80]\n",
    "b = sum(a)/len(a)\n",
    "print('평균은', b)\n",
    "\n",
    "for i in a:\n",
    "    if i > b:\n",
    "        print(\"%d 는(은) 평균보다 크다\" %i)\n",
    "    else:\n",
    "        print(\"%d 는(은) 평균보다 작거나 같다\" %i)"
   ]
  },
  {
   "cell_type": "markdown",
   "id": "f8c15da6",
   "metadata": {},
   "source": [
    "### for문과 range문 활용"
   ]
  },
  {
   "cell_type": "code",
   "execution_count": 19,
   "id": "536fe302",
   "metadata": {},
   "outputs": [
    {
     "name": "stdout",
     "output_type": "stream",
     "text": [
      "2 4 6 8 10 12 14 16 18  \n",
      "3 6 9 12 15 18 21 24 27  \n",
      "4 8 12 16 20 24 28 32 36  \n",
      "5 10 15 20 25 30 35 40 45  \n",
      "6 12 18 24 30 36 42 48 54  \n",
      "7 14 21 28 35 42 49 56 63  \n",
      "8 16 24 32 40 48 56 64 72  \n",
      "9 18 27 36 45 54 63 72 81  \n"
     ]
    }
   ],
   "source": [
    "for i in range(2, 10):\n",
    "    for j in range(1, 10):\n",
    "        print(i * j, end=' ')\n",
    "    print(' ')"
   ]
  }
 ],
 "metadata": {
  "kernelspec": {
   "display_name": "Python 3",
   "language": "python",
   "name": "python3"
  },
  "language_info": {
   "codemirror_mode": {
    "name": "ipython",
    "version": 3
   },
   "file_extension": ".py",
   "mimetype": "text/x-python",
   "name": "python",
   "nbconvert_exporter": "python",
   "pygments_lexer": "ipython3",
   "version": "3.7.9"
  }
 },
 "nbformat": 4,
 "nbformat_minor": 5
}
